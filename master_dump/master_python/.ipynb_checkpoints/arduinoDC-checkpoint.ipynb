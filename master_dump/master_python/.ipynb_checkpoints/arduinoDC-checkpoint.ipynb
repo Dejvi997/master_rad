{
 "cells": [
  {
   "cell_type": "code",
   "execution_count": 1,
   "id": "5ae0c0da-2762-4c85-ab3a-1a97e19857fc",
   "metadata": {},
   "outputs": [],
   "source": [
    "import numpy as np\n",
    "import matplotlib.pyplot as plt\n",
    "from scipy.optimize import curve_fit\n",
    "\n",
    "#Locale settings\n",
    "import locale\n",
    "# Set to German locale to get comma decimal separater\n",
    "locale.setlocale(locale.LC_NUMERIC, \"de_DE\")\n",
    "\n",
    "plt.rcParams['text.usetex'] = True \n",
    "plt.rcParams.update({'font.size': 10,'font.family': 'serif'})\n",
    "plt.rcParams['figure.figsize'] = (.75*6.5, .75*4.5)\n",
    "\n",
    "plt.rcParams['axes.formatter.use_locale'] = True\n",
    "\n",
    "plt.rcParams['text.latex.preamble'] = r'\\usepackage{icomma}\\usepackage{upgreek}'"
   ]
  },
  {
   "cell_type": "code",
   "execution_count": 18,
   "id": "09235459-ef02-4311-8f21-2c572f3cec92",
   "metadata": {},
   "outputs": [],
   "source": [
    "#Imamo samo dva slucaja\n",
    "slucaj = 2\n",
    "\n",
    "if (slucaj == 1):\n",
    "    fBase = 400\n",
    "elif (slucaj == 2):\n",
    "    fBase = 670\n",
    "else:\n",
    "    fBase = 'null'\n",
    "\n",
    "\n",
    "filename = 'arduinoData'+str(slucaj)+'.txt'  \n",
    "\n",
    "infile = open(filename, 'r') \n",
    "    \n",
    "lines = infile.readlines() \n",
    "\n",
    "time = np.array([])\n",
    "freq = np.array([])\n",
    "\n",
    "for line in lines:\n",
    "    sline = line.split(',')  # separates line into a list of items.  ',' tells it to split the lines at the commas\n",
    "    time = np.append(time, float(sline[0]))\n",
    "    freq = np.append(freq, float(sline[1][:-1]))\n",
    "    #print(float(sline[1][:-1])) #each line is now a list\n",
    "    #print(float(sline[0]))\n",
    "infile.close()"
   ]
  },
  {
   "cell_type": "code",
   "execution_count": 19,
   "id": "d373c18a-c349-4b9d-b9f6-ff2271163d72",
   "metadata": {},
   "outputs": [
    {
     "data": {
      "text/plain": [
       "Text(0, 0.5, 'frekvencija [Hz]')"
      ]
     },
     "execution_count": 19,
     "metadata": {},
     "output_type": "execute_result"
    },
    {
     "data": {
      "image/png": "[encoded data removed]",
      "text/plain": [
       "<Figure size 292.5x227.5 with 1 Axes>"
      ]
     },
     "metadata": {},
     "output_type": "display_data"
    }
   ],
   "source": [
    "plt.plot(time[:30]/1e6, freq[:30])\n",
    "plt.xlabel('vreme [s]')\n",
    "plt.ylabel('frekvencija [Hz]')\n",
    "#plt.savefig('fig_arduino/Startup670.pdf', format='pdf')"
   ]
  },
  {
   "cell_type": "markdown",
   "id": "b00b9c56-7697-4cfe-b780-c279f66a98a8",
   "metadata": {},
   "source": [
    "Ovde je mereno pokretanje motora iz mirovanja"
   ]
  },
  {
   "cell_type": "code",
   "execution_count": 20,
   "id": "defb5581-8c9a-47ad-bb38-32325ab3cfc3",
   "metadata": {},
   "outputs": [],
   "source": [
    "plt.rcParams['figure.figsize'] = (.45*6.5, .35*6.5)"
   ]
  },
  {
   "cell_type": "code",
   "execution_count": 21,
   "id": "284b83b5-2118-4330-bcc6-dd36d33a0736",
   "metadata": {},
   "outputs": [
    {
     "name": "stdout",
     "output_type": "stream",
     "text": [
      "[6.80136304e+02 8.14116683e-02]\n",
      "0.72\n"
     ]
    },
    {
     "data": {
      "image/png": "[encoded data removed]",
      "text/plain": [
       "<Figure size 292.5x227.5 with 1 Axes>"
      ]
     },
     "metadata": {},
     "output_type": "display_data"
    }
   ],
   "source": [
    "def func(t, a, T):\n",
    "    if (slucaj == 2):\n",
    "        return 5 + a*(1-np.exp(-t/T)) \n",
    "    if(slucaj == 1):\n",
    "        return 50 + a*(1-np.exp(-t/T))\n",
    "    else:\n",
    "        return a*(1-np.exp(-t/T))\n",
    "\n",
    "t = time[:]/1e6\n",
    "t = time[:70]/1e6\n",
    "\n",
    "#Offset vremenske ose - bitno za fitovanje\n",
    "\n",
    "if (slucaj == 1):\n",
    "    t = t - 1.439136\n",
    "    \n",
    "if (slucaj == 2):\n",
    "    t = t - 1.391908\n",
    "\n",
    "data_freq = freq[:]\n",
    "data_freq = freq[:70]\n",
    "\n",
    "popt, pcov = curve_fit(func, t, data_freq)\n",
    "print(popt)\n",
    "\n",
    "\n",
    "\n",
    "plt.plot(t, data_freq, label='arduino merenje')\n",
    "plt.plot(t, func(t, *popt), 'r', label='model')\n",
    "plt.xlabel('$t$ [s]')\n",
    "plt.ylabel('$f$ [Hz]')\n",
    "plt.xlim(0,0.7)\n",
    "plt.legend()\n",
    "plt.grid()\n",
    "plt.savefig('fig_arduino/Startup'+str(fBase)+'.pdf', format='pdf', bbox_inches='tight')\n",
    "print(data_freq[0])\n"
   ]
  },
  {
   "cell_type": "code",
   "execution_count": 22,
   "id": "40ab34c9-ead3-429d-a81c-9c635b6566bd",
   "metadata": {
    "jp-MarkdownHeadingCollapsed": true,
    "tags": []
   },
   "outputs": [
    {
     "name": "stdout",
     "output_type": "stream",
     "text": [
      "Tm =  0.08141166833892297 s\n",
      "Km =  680.1363041550348 Hz\n"
     ]
    }
   ],
   "source": [
    "print('Tm = ', popt[1],'s')\n",
    "print('Km = ', popt[0], 'Hz')"
   ]
  },
  {
   "cell_type": "code",
   "execution_count": 6,
   "id": "c54e2beb-8a6f-4fd7-9b72-c623e4c950d7",
   "metadata": {},
   "outputs": [
    {
     "name": "stdout",
     "output_type": "stream",
     "text": [
      "260\n"
     ]
    }
   ],
   "source": [
    "#print(time/1e6)\n",
    "print(len(freq))"
   ]
  },
  {
   "cell_type": "code",
   "execution_count": null,
   "id": "be88f0f9-1374-4daf-9fda-7a3a3086f44a",
   "metadata": {},
   "outputs": [],
   "source": []
  }
 ],
 "metadata": {
  "kernelspec": {
   "display_name": "Python 3 (ipykernel)",
   "language": "python",
   "name": "python3"
  },
  "language_info": {
   "codemirror_mode": {
    "name": "ipython",
    "version": 3
   },
   "file_extension": ".py",
   "mimetype": "text/x-python",
   "name": "python",
   "nbconvert_exporter": "python",
   "pygments_lexer": "ipython3",
   "version": "3.8.13"
  }
 },
 "nbformat": 4,
 "nbformat_minor": 5
}
